{
 "cells": [
  {
   "cell_type": "code",
   "execution_count": 2,
   "metadata": {},
   "outputs": [],
   "source": [
    "import dlib\n",
    "import cv2\n",
    "import os"
   ]
  },
  {
   "cell_type": "code",
   "execution_count": 13,
   "metadata": {},
   "outputs": [],
   "source": [
    "def convert():\n",
    "    detector = dlib.get_frontal_face_detector()\n",
    "\n",
    "    for i in os.listdir():\n",
    "        if i.endswith('.png'):\n",
    "            im = cv2.imread(i)\n",
    "            detector.run(im, 0)\n",
    "            face_rects, scores, idx = detector.run(im)\n",
    "            for j, d in enumerate(face_rects):\n",
    "                x1 = d.left()\n",
    "                y1 = d.top()\n",
    "                x2 = d.right()\n",
    "                y2 = d.bottom()\n",
    "                crop_img = im[y1:y2, x1:x2]\n",
    "                cv2.imwrite('cropped/'+str(i), cv2.resize(crop_img,(128,128)))"
   ]
  },
  {
   "cell_type": "code",
   "execution_count": null,
   "metadata": {},
   "outputs": [],
   "source": [
    "os.chdir('fake')\n",
    "os.mkdir('cropped')\n",
    "convert()\n",
    "os.chdir('real')\n",
    "os.mkdir('cropped')\n",
    "convert()"
   ]
  }
 ],
 "metadata": {
  "kernelspec": {
   "display_name": "Python 3",
   "language": "python",
   "name": "python3"
  },
  "language_info": {
   "codemirror_mode": {
    "name": "ipython",
    "version": 3
   },
   "file_extension": ".py",
   "mimetype": "text/x-python",
   "name": "python",
   "nbconvert_exporter": "python",
   "pygments_lexer": "ipython3",
   "version": "3.7.6"
  }
 },
 "nbformat": 4,
 "nbformat_minor": 4
}
